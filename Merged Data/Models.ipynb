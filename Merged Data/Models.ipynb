{
 "cells": [
  {
   "cell_type": "code",
   "execution_count": 1,
   "metadata": {},
   "outputs": [
    {
     "ename": "ModuleNotFoundError",
     "evalue": "No module named 'xgboost'",
     "output_type": "error",
     "traceback": [
      "\u001b[1;31m---------------------------------------------------------------------------\u001b[0m",
      "\u001b[1;31mModuleNotFoundError\u001b[0m                       Traceback (most recent call last)",
      "\u001b[1;32m<ipython-input-1-9d5fda87aac9>\u001b[0m in \u001b[0;36m<module>\u001b[1;34m\u001b[0m\n\u001b[0;32m     23\u001b[0m \u001b[1;32mfrom\u001b[0m \u001b[0msklearn\u001b[0m\u001b[1;33m.\u001b[0m\u001b[0mpreprocessing\u001b[0m \u001b[1;32mimport\u001b[0m \u001b[0mStandardScaler\u001b[0m\u001b[1;33m\u001b[0m\u001b[1;33m\u001b[0m\u001b[0m\n\u001b[0;32m     24\u001b[0m \u001b[1;32mfrom\u001b[0m \u001b[0msklearn\u001b[0m\u001b[1;33m.\u001b[0m\u001b[0mensemble\u001b[0m \u001b[1;32mimport\u001b[0m \u001b[0mRandomForestRegressor\u001b[0m\u001b[1;33m\u001b[0m\u001b[1;33m\u001b[0m\u001b[0m\n\u001b[1;32m---> 25\u001b[1;33m \u001b[1;32mfrom\u001b[0m \u001b[0mxgboost\u001b[0m \u001b[1;32mimport\u001b[0m \u001b[0mXGBRegressor\u001b[0m\u001b[1;33m\u001b[0m\u001b[1;33m\u001b[0m\u001b[0m\n\u001b[0m\u001b[0;32m     26\u001b[0m \u001b[1;32mfrom\u001b[0m \u001b[0msklearn\u001b[0m\u001b[1;33m.\u001b[0m\u001b[0mlinear_model\u001b[0m \u001b[1;32mimport\u001b[0m \u001b[0mLinearRegression\u001b[0m\u001b[1;33m\u001b[0m\u001b[1;33m\u001b[0m\u001b[0m\n\u001b[0;32m     27\u001b[0m \u001b[1;32mfrom\u001b[0m \u001b[0msklearn\u001b[0m\u001b[1;33m.\u001b[0m\u001b[0mlinear_model\u001b[0m \u001b[1;32mimport\u001b[0m \u001b[0mLogisticRegression\u001b[0m\u001b[1;33m\u001b[0m\u001b[1;33m\u001b[0m\u001b[0m\n",
      "\u001b[1;31mModuleNotFoundError\u001b[0m: No module named 'xgboost'"
     ]
    }
   ],
   "source": [
    "%matplotlib inline\n",
    "\n",
    "import pandas as pd\n",
    "import numpy as np\n",
    "import os\n",
    "from functools import reduce\n",
    "import seaborn as sns\n",
    "import matplotlib.pyplot as plt\n",
    "from mpl_toolkits.mplot3d import Axes3D\n",
    "from scipy import stats\n",
    "import statsmodels.api as sm\n",
    "from pylab import rcParams\n",
    "from matplotlib.backends.backend_agg import FigureCanvasAgg\n",
    "from sklearn.model_selection import train_test_split\n",
    "from sklearn.preprocessing import StandardScaler\n",
    "from sklearn.preprocessing import MinMaxScaler\n",
    "from sklearn.preprocessing import RobustScaler\n",
    "from sklearn.svm import SVR\n",
    "from sklearn.metrics import mean_absolute_error\n",
    "from sklearn.metrics import mean_squared_error\n",
    "from sklearn.metrics import r2_score\n",
    "from math import sqrt\n",
    "from sklearn.preprocessing import StandardScaler\n",
    "from sklearn.ensemble import RandomForestRegressor\n",
    "from xgboost import XGBRegressor\n",
    "from sklearn.linear_model import LinearRegression\n",
    "from sklearn.linear_model import LogisticRegression\n",
    "from sklearn.svm import SVR\n",
    "from sklearn.model_selection import GridSearchCV, KFold\n",
    "\n",
    "plt.style.use('seaborn-darkgrid')"
   ]
  },
  {
   "cell_type": "code",
   "execution_count": null,
   "metadata": {},
   "outputs": [],
   "source": [
    "def classify(num, avg):\n",
    "    if num > avg:\n",
    "        return 1\n",
    "    elif num < avg:\n",
    "        return 0\n",
    "    \n",
    "def evaluate(model, test_features, test_labels):\n",
    "    predictions = model.predict(test_features)\n",
    "    errors = abs(predictions - test_labels)\n",
    "    mape = 100 * np.mean(errors / test_labels)\n",
    "    accuracy = 100 - mape\n",
    "    print('Model Performance')\n",
    "    print('Average Error: {:0.4f} degrees.'.format(np.mean(errors)))\n",
    "    print('Accuracy = {:0.2f}%.'.format(accuracy))\n",
    "    \n",
    "    return accuracy"
   ]
  },
  {
   "cell_type": "code",
   "execution_count": null,
   "metadata": {},
   "outputs": [],
   "source": [
    "COVID_DF = pd.read_csv('COVID_AllData.csv', index_col = 0)\n",
    "COVID_DF.head()"
   ]
  },
  {
   "cell_type": "code",
   "execution_count": null,
   "metadata": {},
   "outputs": [],
   "source": [
    "columns = list(COVID_DF.columns)[3:]\n",
    "columns"
   ]
  },
  {
   "cell_type": "code",
   "execution_count": null,
   "metadata": {
    "scrolled": false
   },
   "outputs": [],
   "source": [
    "model1 = sm.OLS(COVID_DF['cases'], COVID_DF[columns]).fit()\n",
    "model1.summary()"
   ]
  },
  {
   "cell_type": "code",
   "execution_count": null,
   "metadata": {},
   "outputs": [],
   "source": [
    "test_len = int(0.25 * len(COVID_DF))\n",
    "train_len = len(COVID_DF) - test_len\n",
    "print('Train Set Len: ' + str(train_len))\n",
    "print('Test Set Len: ' + str(test_len))\n",
    "\n",
    "train = COVID_DF[:train_len]\n",
    "test = COVID_DF[train_len:]\n",
    "print('Train Set Shape: ' + str(train.shape))\n",
    "print('Test Set Shape: ' + str(test.shape))"
   ]
  },
  {
   "cell_type": "markdown",
   "metadata": {},
   "source": [
    "## Linear Regression"
   ]
  },
  {
   "cell_type": "code",
   "execution_count": null,
   "metadata": {},
   "outputs": [],
   "source": [
    "features_list = columns\n",
    "    \n",
    "target = 'cases'\n",
    "\n",
    "X_train = train[features_list]\n",
    "y_train = train[target]\n",
    "X_test = test[features_list]\n",
    "y_test = test[target]\n",
    "\n",
    "scaler = StandardScaler()\n",
    "X_train_scaled = scaler.fit_transform(X_train)\n",
    "y_train_scaled = scaler.fit_transform(np.array(y_train).reshape(-1, 1))\n",
    "X_test_scaled = scaler.transform(X_test)\n",
    "\n",
    "LinearModel = LinearRegression()\n",
    "LinearModel.fit(X_train_scaled, y_train)\n",
    "\n",
    "train_predictions_scaled = LinearModel.predict(X_train_scaled)\n",
    "train_predictions = scaler.inverse_transform(train_predictions_scaled)\n",
    "test_predictions_scaled = LinearModel.predict(X_test_scaled)\n",
    "test_predictions = scaler.inverse_transform(test_predictions_scaled)\n",
    "\n",
    "Train_MAE = mean_absolute_error(y_train, train_predictions)\n",
    "Train_MSE = mean_squared_error(y_train, train_predictions)\n",
    "Train_RMS = sqrt(mean_squared_error(y_train, train_predictions))\n",
    "Train_R2Score = r2_score(y_train, train_predictions)\n",
    "\n",
    "Test_MAE = mean_absolute_error(y_test, test_predictions)\n",
    "Test_MSE = mean_squared_error(y_test, test_predictions)\n",
    "Test_RMS = sqrt(mean_squared_error(y_test, test_predictions))\n",
    "Test_R2Score = r2_score(y_test, test_predictions)\n",
    "\n",
    "print('Train MAE Value:', Train_MAE)\n",
    "print('Train MSE Value:', Train_MSE)\n",
    "print('Train RMS Value:', Train_RMS)\n",
    "print('Train R2 Score:', Train_R2Score)\n",
    "print('\\n')\n",
    "\n",
    "print('Test MAE Value:', Test_MAE)\n",
    "print('Test MSE Value:', Test_MSE)\n",
    "print('Test RMS Value:', Test_RMS)\n",
    "print('Test R2 Score:', Test_R2Score)"
   ]
  },
  {
   "cell_type": "code",
   "execution_count": null,
   "metadata": {},
   "outputs": [],
   "source": [
    "rcParams['figure.figsize'] = 20, 10\n",
    "\n",
    "plt.figure()\n",
    "\n",
    "plt.scatter(x = train['State'], y = train['cases'], linewidths = 1, alpha = 0.7, edgecolor = 'k', s = 100, cmap = 'inferno')\n",
    "plt.scatter(x = test['State'], y = test['cases'], linewidths = 1, alpha = 0.7, edgecolor = 'k', s = 100, cmap = 'inferno')\n",
    "plt.scatter(x = train['State'], y = train_predictions, linewidths = 1, alpha = 0.7, edgecolor = 'k', s = 100, cmap = 'inferno')\n",
    "plt.title('Socioeconomic and Sociodemographic Factors vs. COVID-19 Case Count Per State', fontsize = 16, fontweight = 'bold')\n",
    "plt.xlabel('State', fontsize = 10, fontweight = 'bold')\n",
    "plt.ylabel('COVID-19 Case Count', fontsize = 10, fontweight = 'bold')\n",
    "\n",
    "plt.legend(['Train Data', 'Test Data', 'Train Predictions'])\n",
    "\n",
    "plt.xticks(rotation = 90)\n",
    "plt.show();"
   ]
  },
  {
   "cell_type": "code",
   "execution_count": null,
   "metadata": {},
   "outputs": [],
   "source": [
    "rcParams['figure.figsize'] = 20, 10\n",
    "\n",
    "plt.figure()\n",
    "\n",
    "plt.scatter(x = train['State'], y = train['cases'], linewidths = 1, alpha = 0.7, edgecolor = 'k', s = 100, cmap = 'inferno')\n",
    "plt.scatter(x = test['State'], y = test['cases'], linewidths = 1, alpha = 0.7, edgecolor = 'k', s = 100, cmap = 'inferno')\n",
    "plt.scatter(x = test['State'], y = test_predictions, linewidths = 1, alpha = 0.7, edgecolor = 'k', s = 100, cmap = 'inferno')\n",
    "plt.title('Socioeconomic and Sociodemographic Factors vs. COVID-19 Case Count Per State', fontsize = 16, fontweight = 'bold')\n",
    "plt.xlabel('State', fontsize = 10, fontweight = 'bold')\n",
    "plt.ylabel('COVID-19 Case Count', fontsize = 10, fontweight = 'bold')\n",
    "\n",
    "plt.legend(['Train Data', 'Test Data', 'Test Predictions'])\n",
    "\n",
    "plt.xticks(rotation = 90)\n",
    "plt.show();"
   ]
  },
  {
   "cell_type": "markdown",
   "metadata": {},
   "source": [
    "## SVR"
   ]
  },
  {
   "cell_type": "code",
   "execution_count": null,
   "metadata": {},
   "outputs": [],
   "source": [
    "features_list = columns\n",
    "    \n",
    "target = 'cases'\n",
    "\n",
    "X_train = train[features_list]\n",
    "y_train = train[target]\n",
    "X_test = test[features_list]\n",
    "y_test = test[target]\n",
    "\n",
    "scaler = StandardScaler()\n",
    "X_train_scaled = scaler.fit_transform(X_train)\n",
    "y_train_scaled = scaler.fit_transform(np.array(y_train).reshape(-1, 1))\n",
    "X_test_scaled = scaler.transform(X_test)\n",
    "\n",
    "SVRModel = SVR(kernel = 'linear')\n",
    "SVRModel.fit(X_train_scaled, y_train)\n",
    "\n",
    "train_predictions_scaled = SVRModel.predict(X_train_scaled)\n",
    "train_predictions = scaler.inverse_transform(train_predictions_scaled)\n",
    "test_predictions_scaled = SVRModel.predict(X_test_scaled)\n",
    "test_predictions = scaler.inverse_transform(test_predictions_scaled)\n",
    "\n",
    "Train_MAE = mean_absolute_error(y_train, train_predictions)\n",
    "Train_MSE = mean_squared_error(y_train, train_predictions)\n",
    "Train_RMS = sqrt(mean_squared_error(y_train, train_predictions))\n",
    "Train_R2Score = r2_score(y_train, train_predictions)\n",
    "\n",
    "Test_MAE = mean_absolute_error(y_test, test_predictions)\n",
    "Test_MSE = mean_squared_error(y_test, test_predictions)\n",
    "Test_RMS = sqrt(mean_squared_error(y_test, test_predictions))\n",
    "Test_R2Score = r2_score(y_test, test_predictions)\n",
    "\n",
    "print('Train MAE Value:', Train_MAE)\n",
    "print('Train MSE Value:', Train_MSE)\n",
    "print('Train RMS Value:', Train_RMS)\n",
    "print('Train R2 Score:', Train_R2Score)\n",
    "print('\\n')\n",
    "\n",
    "print('Test MAE Value:', Test_MAE)\n",
    "print('Test MSE Value:', Test_MSE)\n",
    "print('Test RMS Value:', Test_RMS)\n",
    "print('Test R2 Score:', Test_R2Score)"
   ]
  },
  {
   "cell_type": "code",
   "execution_count": null,
   "metadata": {},
   "outputs": [],
   "source": [
    "rcParams['figure.figsize'] = 20, 10\n",
    "\n",
    "plt.figure()\n",
    "\n",
    "plt.scatter(x = train['State'], y = train['cases'], linewidths = 1, alpha = 0.7, edgecolor = 'k', s = 100, cmap = 'inferno')\n",
    "plt.scatter(x = test['State'], y = test['cases'], linewidths = 1, alpha = 0.7, edgecolor = 'k', s = 100, cmap = 'inferno')\n",
    "plt.scatter(x = train['State'], y = train_predictions, linewidths = 1, alpha = 0.7, edgecolor = 'k', s = 100, cmap = 'inferno')\n",
    "plt.title('Socioeconomic and Sociodemographic Factors vs. COVID-19 Case Count Per State', fontsize = 16, fontweight = 'bold')\n",
    "plt.xlabel('State', fontsize = 10, fontweight = 'bold')\n",
    "plt.ylabel('COVID-19 Case Count', fontsize = 10, fontweight = 'bold')\n",
    "\n",
    "plt.legend(['Train Data', 'Test Data', 'Train Predictions'])\n",
    "\n",
    "plt.xticks(rotation = 90)\n",
    "plt.show();"
   ]
  },
  {
   "cell_type": "code",
   "execution_count": null,
   "metadata": {},
   "outputs": [],
   "source": [
    "rcParams['figure.figsize'] = 20, 10\n",
    "\n",
    "plt.figure()\n",
    "\n",
    "plt.scatter(x = train['State'], y = train['cases'], linewidths = 1, alpha = 0.7, edgecolor = 'k', s = 100, cmap = 'inferno')\n",
    "plt.scatter(x = test['State'], y = test['cases'], linewidths = 1, alpha = 0.7, edgecolor = 'k', s = 100, cmap = 'inferno')\n",
    "plt.scatter(x = test['State'], y = test_predictions, linewidths = 1, alpha = 0.7, edgecolor = 'k', s = 100, cmap = 'inferno')\n",
    "plt.title('Socioeconomic and Sociodemographic Factors vs. COVID-19 Case Count Per State', fontsize = 16, fontweight = 'bold')\n",
    "plt.xlabel('State', fontsize = 10, fontweight = 'bold')\n",
    "plt.ylabel('COVID-19 Case Count', fontsize = 10, fontweight = 'bold')\n",
    "\n",
    "plt.legend(['Train Data', 'Test Data', 'Test Predictions'])\n",
    "\n",
    "plt.xticks(rotation = 90)\n",
    "plt.show();"
   ]
  },
  {
   "cell_type": "markdown",
   "metadata": {},
   "source": [
    "## Random Forest Regression"
   ]
  },
  {
   "cell_type": "code",
   "execution_count": null,
   "metadata": {},
   "outputs": [],
   "source": [
    "features_list = columns\n",
    "    \n",
    "target = 'cases'\n",
    "\n",
    "X_train = train[features_list]\n",
    "y_train = train[target]\n",
    "X_test = test[features_list]\n",
    "y_test = test[target]\n",
    "\n",
    "scaler = StandardScaler()\n",
    "X_train_scaled = scaler.fit_transform(X_train)\n",
    "y_train_scaled = scaler.fit_transform(np.array(y_train).reshape(-1, 1))\n",
    "X_test_scaled = scaler.transform(X_test)\n",
    "\n",
    "RanForModel = RandomForestRegressor()\n",
    "RanForModel.fit(X_train_scaled, y_train)\n",
    "\n",
    "train_predictions_scaled = RanForModel.predict(X_train_scaled)\n",
    "train_predictions = scaler.inverse_transform(train_predictions_scaled)\n",
    "test_predictions_scaled = RanForModel.predict(X_test_scaled)\n",
    "test_predictions = scaler.inverse_transform(test_predictions_scaled)\n",
    "\n",
    "Train_MAE = mean_absolute_error(y_train, train_predictions)\n",
    "Train_MSE = mean_squared_error(y_train, train_predictions)\n",
    "Train_RMS = sqrt(mean_squared_error(y_train, train_predictions))\n",
    "Train_R2Score = r2_score(y_train, train_predictions)\n",
    "\n",
    "Test_MAE = mean_absolute_error(y_test, test_predictions)\n",
    "Test_MSE = mean_squared_error(y_test, test_predictions)\n",
    "Test_RMS = sqrt(mean_squared_error(y_test, test_predictions))\n",
    "Test_R2Score = r2_score(y_test, test_predictions)\n",
    "\n",
    "print('Train MAE Value:', Train_MAE)\n",
    "print('Train MSE Value:', Train_MSE)\n",
    "print('Train RMS Value:', Train_RMS)\n",
    "print('Train R2 Score:', Train_R2Score)\n",
    "print('\\n')\n",
    "\n",
    "print('Test MAE Value:', Test_MAE)\n",
    "print('Test MSE Value:', Test_MSE)\n",
    "print('Test RMS Value:', Test_RMS)\n",
    "print('Test R2 Score:', Test_R2Score)"
   ]
  },
  {
   "cell_type": "code",
   "execution_count": null,
   "metadata": {},
   "outputs": [],
   "source": [
    "rcParams['figure.figsize'] = 20, 10\n",
    "\n",
    "plt.figure()\n",
    "\n",
    "plt.scatter(x = train['State'], y = train['cases'], linewidths = 1, alpha = 0.7, edgecolor = 'k', s = 100, cmap = 'inferno')\n",
    "plt.scatter(x = test['State'], y = test['cases'], linewidths = 1, alpha = 0.7, edgecolor = 'k', s = 100, cmap = 'inferno')\n",
    "plt.scatter(x = train['State'], y = train_predictions, linewidths = 1, alpha = 0.7, edgecolor = 'k', s = 100, cmap = 'inferno')\n",
    "plt.title('Socioeconomic and Sociodemographic Factors vs. COVID-19 Case Count Per State', fontsize = 16, fontweight = 'bold')\n",
    "plt.xlabel('State', fontsize = 10, fontweight = 'bold')\n",
    "plt.ylabel('COVID-19 Case Count', fontsize = 10, fontweight = 'bold')\n",
    "\n",
    "plt.legend(['Train Data', 'Test Data', 'Train Predictions'])\n",
    "\n",
    "plt.xticks(rotation = 90)\n",
    "plt.show();"
   ]
  },
  {
   "cell_type": "code",
   "execution_count": null,
   "metadata": {},
   "outputs": [],
   "source": [
    "rcParams['figure.figsize'] = 20, 10\n",
    "\n",
    "plt.figure()\n",
    "\n",
    "plt.scatter(x = train['State'], y = train['cases'], linewidths = 1, alpha = 0.7, edgecolor = 'k', s = 100, cmap = 'inferno')\n",
    "plt.scatter(x = test['State'], y = test['cases'], linewidths = 1, alpha = 0.7, edgecolor = 'k', s = 100, cmap = 'inferno')\n",
    "plt.scatter(x = test['State'], y = test_predictions, linewidths = 1, alpha = 0.7, edgecolor = 'k', s = 100, cmap = 'inferno')\n",
    "plt.title('Socioeconomic and Sociodemographic Factors vs. COVID-19 Case Count Per State', fontsize = 16, fontweight = 'bold')\n",
    "plt.xlabel('State', fontsize = 10, fontweight = 'bold')\n",
    "plt.ylabel('COVID-19 Case Count', fontsize = 10, fontweight = 'bold')\n",
    "\n",
    "plt.legend(['Train Data', 'Test Data', 'Test Predictions'])\n",
    "\n",
    "plt.xticks(rotation = 90)\n",
    "plt.show();"
   ]
  },
  {
   "cell_type": "code",
   "execution_count": null,
   "metadata": {},
   "outputs": [],
   "source": [
    "param_grid = {\n",
    "    'bootstrap': [True],\n",
    "    'max_depth': [80, 90, 100, 110],\n",
    "    'max_features': [0, 1],\n",
    "    'min_samples_leaf': [3, 4, 5],\n",
    "    'min_samples_split': [8, 10, 12],\n",
    "    'n_estimators': [100, 200, 300, 1000]\n",
    "}\n",
    "\n",
    "kfold = KFold(n_splits = 10)\n",
    "\n",
    "RF_NewModel = GridSearchCV(estimator = RanForModel, param_grid = param_grid, \n",
    "                          cv = kfold, n_jobs = -1, verbose = 2, return_train_score=True)\n",
    "\n",
    "RF_NewModel.fit(X_train_scaled, y_train_scaled);"
   ]
  },
  {
   "cell_type": "code",
   "execution_count": null,
   "metadata": {},
   "outputs": [],
   "source": [
    "RF_NewModel.best_params_"
   ]
  },
  {
   "cell_type": "code",
   "execution_count": null,
   "metadata": {},
   "outputs": [],
   "source": [
    "base_accuracy = evaluate(RanForModel, X_train_scaled, y_train_scaled)"
   ]
  },
  {
   "cell_type": "code",
   "execution_count": null,
   "metadata": {},
   "outputs": [],
   "source": [
    "new_accuracy = evaluate(RF_NewModel, X_train_scaled, y_train_scaled)"
   ]
  },
  {
   "cell_type": "code",
   "execution_count": null,
   "metadata": {},
   "outputs": [],
   "source": [
    "print('Improvement of {:0.2f}%.'.format( 100 * (new_accuracy - base_accuracy) / new_accuracy))"
   ]
  },
  {
   "cell_type": "code",
   "execution_count": null,
   "metadata": {},
   "outputs": [],
   "source": [
    "train_predictions_scaled = RF_NewModel.predict(X_train_scaled)\n",
    "train_predictions = scaler.inverse_transform(train_predictions_scaled)\n",
    "test_predictions_scaled = RF_NewModel.predict(X_test_scaled)\n",
    "test_predictions = scaler.inverse_transform(test_predictions_scaled)\n",
    "\n",
    "Train_MAE = mean_absolute_error(y_train, train_predictions)\n",
    "Train_MSE = mean_squared_error(y_train, train_predictions)\n",
    "Train_RMS = sqrt(mean_squared_error(y_train, train_predictions))\n",
    "Train_R2Score = r2_score(y_train, train_predictions)\n",
    "\n",
    "Test_MAE = mean_absolute_error(y_test, test_predictions)\n",
    "Test_MSE = mean_squared_error(y_test, test_predictions)\n",
    "Test_RMS = sqrt(mean_squared_error(y_test, test_predictions))\n",
    "Test_R2Score = r2_score(y_test, test_predictions)\n",
    "\n",
    "print('Train MAE Value:', Train_MAE)\n",
    "print('Train MSE Value:', Train_MSE)\n",
    "print('Train RMS Value:', Train_RMS)\n",
    "print('Train R2 Score:', Train_R2Score)\n",
    "print('\\n')\n",
    "\n",
    "print('Test MAE Value:', Test_MAE)\n",
    "print('Test MSE Value:', Test_MSE)\n",
    "print('Test RMS Value:', Test_RMS)\n",
    "print('Test R2 Score:', Test_R2Score)"
   ]
  },
  {
   "cell_type": "code",
   "execution_count": null,
   "metadata": {},
   "outputs": [],
   "source": [
    "rcParams['figure.figsize'] = 20, 10\n",
    "\n",
    "plt.figure()\n",
    "\n",
    "plt.scatter(x = train['State'], y = train['cases'], linewidths = 1, alpha = 0.7, edgecolor = 'k', s = 100, cmap = 'inferno')\n",
    "plt.scatter(x = test['State'], y = test['cases'], linewidths = 1, alpha = 0.7, edgecolor = 'k', s = 100, cmap = 'inferno')\n",
    "plt.scatter(x = train['State'], y = train_predictions, linewidths = 1, alpha = 0.7, edgecolor = 'k', s = 100, cmap = 'inferno')\n",
    "plt.title('Personal Health Care Expenses Per State Capita (2014) vs. COVID-19 Case Count Per State', fontsize = 16, fontweight = 'bold')\n",
    "plt.xlabel('State', fontsize = 10, fontweight = 'bold')\n",
    "plt.ylabel('COVID-19 Case Count', fontsize = 10, fontweight = 'bold')\n",
    "\n",
    "plt.legend(['Train Data', 'Test Data', 'Train Predictions'])\n",
    "\n",
    "plt.xticks(rotation = 90)\n",
    "plt.show();"
   ]
  },
  {
   "cell_type": "code",
   "execution_count": null,
   "metadata": {},
   "outputs": [],
   "source": [
    "rcParams['figure.figsize'] = 20, 10\n",
    "\n",
    "plt.figure()\n",
    "\n",
    "plt.scatter(x = train['State'], y = train['cases'], linewidths = 1, alpha = 0.7, edgecolor = 'k', s = 100, cmap = 'inferno')\n",
    "plt.scatter(x = test['State'], y = test['cases'], linewidths = 1, alpha = 0.7, edgecolor = 'k', s = 100, cmap = 'inferno')\n",
    "plt.scatter(x = test['State'], y = test_predictions, linewidths = 1, alpha = 0.7, edgecolor = 'k', s = 100, cmap = 'inferno')\n",
    "plt.title('Personal Health Care Expenses Per State Capita (2014) vs. COVID-19 Case Count Per State', fontsize = 16, fontweight = 'bold')\n",
    "plt.xlabel('State', fontsize = 10, fontweight = 'bold')\n",
    "plt.ylabel('COVID-19 Case Count', fontsize = 10, fontweight = 'bold')\n",
    "\n",
    "plt.legend(['Train Data', 'Test Data', 'Test Predictions'])\n",
    "\n",
    "plt.xticks(rotation = 90)\n",
    "plt.show();"
   ]
  },
  {
   "cell_type": "markdown",
   "metadata": {},
   "source": [
    "## XGBoost"
   ]
  },
  {
   "cell_type": "code",
   "execution_count": null,
   "metadata": {},
   "outputs": [],
   "source": [
    "features_list = columns\n",
    "    \n",
    "target = 'cases'\n",
    "\n",
    "X_train = train[features_list]\n",
    "y_train = train[target]\n",
    "X_test = test[features_list]\n",
    "y_test = test[target]\n",
    "\n",
    "scaler = StandardScaler()\n",
    "X_train_scaled = scaler.fit_transform(X_train)\n",
    "y_train_scaled = scaler.fit_transform(np.array(y_train).reshape(-1, 1))\n",
    "X_test_scaled = scaler.transform(X_test)\n",
    "\n",
    "XGBmodel = XGBRegressor()\n",
    "XGBmodel.fit(X_train_scaled, y_train)\n",
    "\n",
    "train_predictions_scaled = XGBmodel.predict(X_train_scaled)\n",
    "train_predictions = scaler.inverse_transform(train_predictions_scaled)\n",
    "test_predictions_scaled = XGBmodel.predict(X_test_scaled)\n",
    "test_predictions = scaler.inverse_transform(test_predictions_scaled)\n",
    "\n",
    "Train_MAE = mean_absolute_error(y_train, train_predictions)\n",
    "Train_MSE = mean_squared_error(y_train, train_predictions)\n",
    "Train_RMS = sqrt(mean_squared_error(y_train, train_predictions))\n",
    "Train_R2Score = r2_score(y_train, train_predictions)\n",
    "\n",
    "Test_MAE = mean_absolute_error(y_test, test_predictions)\n",
    "Test_MSE = mean_squared_error(y_test, test_predictions)\n",
    "Test_RMS = sqrt(mean_squared_error(y_test, test_predictions))\n",
    "Test_R2Score = r2_score(y_test, test_predictions)\n",
    "\n",
    "print('Train MAE Value:', Train_MAE)\n",
    "print('Train MSE Value:', Train_MSE)\n",
    "print('Train RMS Value:', Train_RMS)\n",
    "print('Train R2 Score:', Train_R2Score)\n",
    "print('\\n')\n",
    "\n",
    "print('Test MAE Value:', Test_MAE)\n",
    "print('Test MSE Value:', Test_MSE)\n",
    "print('Test RMS Value:', Test_RMS)\n",
    "print('Test R2 Score:', Test_R2Score)"
   ]
  },
  {
   "cell_type": "code",
   "execution_count": null,
   "metadata": {},
   "outputs": [],
   "source": [
    "rcParams['figure.figsize'] = 20, 10\n",
    "\n",
    "plt.figure()\n",
    "\n",
    "plt.scatter(x = train['State'], y = train['cases'], linewidths = 1, alpha = 0.7, edgecolor = 'k', s = 100, cmap = 'inferno')\n",
    "plt.scatter(x = test['State'], y = test['cases'], linewidths = 1, alpha = 0.7, edgecolor = 'k', s = 100, cmap = 'inferno')\n",
    "plt.scatter(x = train['State'], y = train_predictions, linewidths = 1, alpha = 0.7, edgecolor = 'k', s = 100, cmap = 'inferno')\n",
    "plt.title('Socioeconomic and Sociodemographic Factors vs. COVID-19 Case Count Per State', fontsize = 16, fontweight = 'bold')\n",
    "plt.xlabel('State', fontsize = 10, fontweight = 'bold')\n",
    "plt.ylabel('COVID-19 Case Count', fontsize = 10, fontweight = 'bold')\n",
    "\n",
    "plt.legend(['Train Data', 'Test Data', 'Train Predictions'])\n",
    "\n",
    "plt.xticks(rotation = 90)\n",
    "plt.show();"
   ]
  },
  {
   "cell_type": "code",
   "execution_count": null,
   "metadata": {},
   "outputs": [],
   "source": [
    "rcParams['figure.figsize'] = 20, 10\n",
    "\n",
    "plt.figure()\n",
    "\n",
    "plt.scatter(x = train['State'], y = train['cases'], linewidths = 1, alpha = 0.7, edgecolor = 'k', s = 100, cmap = 'inferno')\n",
    "plt.scatter(x = test['State'], y = test['cases'], linewidths = 1, alpha = 0.7, edgecolor = 'k', s = 100, cmap = 'inferno')\n",
    "plt.scatter(x = test['State'], y = test_predictions, linewidths = 1, alpha = 0.7, edgecolor = 'k', s = 100, cmap = 'inferno')\n",
    "plt.title('Socioeconomic and Sociodemographic Factors vs. COVID-19 Case Count Per State', fontsize = 16, fontweight = 'bold')\n",
    "plt.xlabel('State', fontsize = 10, fontweight = 'bold')\n",
    "plt.ylabel('COVID-19 Case Count', fontsize = 10, fontweight = 'bold')\n",
    "\n",
    "plt.legend(['Train Data', 'Test Data', 'Test Predictions'])\n",
    "\n",
    "plt.xticks(rotation = 90)\n",
    "plt.show();"
   ]
  },
  {
   "cell_type": "markdown",
   "metadata": {},
   "source": [
    "## Logistic Regression"
   ]
  },
  {
   "cell_type": "code",
   "execution_count": null,
   "metadata": {},
   "outputs": [],
   "source": [
    "COVID_DFLogReg = COVID_DF\n",
    "\n",
    "CasesMean = COVID_DFLogReg['cases'].mean()\n",
    "\n",
    "COVID_DFLogReg['Cases_Avg'] = COVID_DFLogReg['cases'].apply(lambda x: classify(x, CasesMean))\n",
    "\n",
    "COVID_DFLogReg.head(25)"
   ]
  },
  {
   "cell_type": "code",
   "execution_count": null,
   "metadata": {},
   "outputs": [],
   "source": [
    "test_len = int(0.25 * len(COVID_DFLogReg))\n",
    "train_len = len(COVID_DFLogReg) - test_len\n",
    "print('Train Set Len: ' + str(train_len))\n",
    "print('Test Set Len: ' + str(test_len))\n",
    "\n",
    "train = COVID_DFLogReg[:train_len]\n",
    "test = COVID_DFLogReg[train_len:]\n",
    "print('Train Set Shape: ' + str(train.shape))\n",
    "print('Test Set Shape: ' + str(test.shape))"
   ]
  },
  {
   "cell_type": "code",
   "execution_count": null,
   "metadata": {},
   "outputs": [],
   "source": [
    "features_list = columns\n",
    "    \n",
    "target = 'Cases_Avg'\n",
    "\n",
    "X_train = train[features_list]\n",
    "y_train = train[target]\n",
    "X_test = test[features_list]\n",
    "y_test = test[target]\n",
    "\n",
    "scaler = StandardScaler()\n",
    "X_train_scaled = scaler.fit_transform(X_train)\n",
    "X_test_scaled = scaler.transform(X_test)\n",
    "\n",
    "LogRegModel = LogisticRegression()\n",
    "LogRegModel.fit(X_train_scaled, y_train)\n",
    "\n",
    "train_predictions = LogRegModel.predict(X_train_scaled)\n",
    "test_predictions = LogRegModel.predict(X_test_scaled)\n",
    "\n",
    "Train_MAE = mean_absolute_error(y_train, train_predictions)\n",
    "Train_MSE = mean_squared_error(y_train, train_predictions)\n",
    "Train_RMS = sqrt(mean_squared_error(y_train, train_predictions))\n",
    "Train_R2Score = r2_score(y_train, train_predictions)\n",
    "\n",
    "Test_MAE = mean_absolute_error(y_test, test_predictions)\n",
    "Test_MSE = mean_squared_error(y_test, test_predictions)\n",
    "Test_RMS = sqrt(mean_squared_error(y_test, test_predictions))\n",
    "Test_R2Score = r2_score(y_test, test_predictions)\n",
    "\n",
    "print('Train MAE Value:', Train_MAE)\n",
    "print('Train MSE Value:', Train_MSE)\n",
    "print('Train RMS Value:', Train_RMS)\n",
    "print('Train R2 Score:', Train_R2Score)\n",
    "print('\\n')\n",
    "\n",
    "print('Test MAE Value:', Test_MAE)\n",
    "print('Test MSE Value:', Test_MSE)\n",
    "print('Test RMS Value:', Test_RMS)\n",
    "print('Test R2 Score:', Test_R2Score)"
   ]
  },
  {
   "cell_type": "code",
   "execution_count": null,
   "metadata": {},
   "outputs": [],
   "source": [
    "rcParams['figure.figsize'] = 20, 10\n",
    "\n",
    "plt.figure()\n",
    "\n",
    "plt.scatter(x = train['State'], y = train['Cases_Avg'], linewidths = 1, alpha = 0.7, edgecolor = 'k', s = 100, cmap = 'inferno')\n",
    "plt.scatter(x = test['State'], y = test['Cases_Avg'], linewidths = 1, alpha = 0.7, edgecolor = 'k', s = 100, cmap = 'inferno')\n",
    "plt.scatter(x = train['State'], y = train_predictions, linewidths = 1, alpha = 0.7, edgecolor = 'k', s = 100, cmap = 'inferno')\n",
    "plt.title('Socioeconomic and Sociodemographic Factors vs. COVID-19 Case Count Per State', fontsize = 16, fontweight = 'bold')\n",
    "plt.xlabel('State', fontsize = 10, fontweight = 'bold')\n",
    "plt.ylabel('COVID-19 Case Count', fontsize = 10, fontweight = 'bold')\n",
    "\n",
    "plt.legend(['Train Data', 'Test Data', 'Train Predictions'])\n",
    "\n",
    "plt.xticks(rotation = 90)\n",
    "plt.show();"
   ]
  },
  {
   "cell_type": "code",
   "execution_count": null,
   "metadata": {},
   "outputs": [],
   "source": [
    "rcParams['figure.figsize'] = 20, 10\n",
    "\n",
    "plt.figure()\n",
    "\n",
    "plt.scatter(x = train['State'], y = train['Cases_Avg'], linewidths = 1, alpha = 0.7, edgecolor = 'k', s = 100, cmap = 'inferno')\n",
    "plt.scatter(x = test['State'], y = test['Cases_Avg'], linewidths = 1, alpha = 0.7, edgecolor = 'k', s = 100, cmap = 'inferno')\n",
    "plt.scatter(x = test['State'], y = test_predictions, linewidths = 1, alpha = 0.7, edgecolor = 'k', s = 100, cmap = 'inferno')\n",
    "plt.title('Socioeconomic and Sociodemographic Factors vs. COVID-19 Case Count Per State', fontsize = 16, fontweight = 'bold')\n",
    "plt.xlabel('State', fontsize = 10, fontweight = 'bold')\n",
    "plt.ylabel('COVID-19 Case Count', fontsize = 10, fontweight = 'bold')\n",
    "\n",
    "plt.legend(['Train Data', 'Test Data', 'Test Predictions'])\n",
    "\n",
    "plt.xticks(rotation = 90)\n",
    "plt.show();"
   ]
  },
  {
   "cell_type": "code",
   "execution_count": null,
   "metadata": {},
   "outputs": [],
   "source": []
  }
 ],
 "metadata": {
  "kernelspec": {
   "display_name": "Python 3",
   "language": "python",
   "name": "python3"
  },
  "language_info": {
   "codemirror_mode": {
    "name": "ipython",
    "version": 3
   },
   "file_extension": ".py",
   "mimetype": "text/x-python",
   "name": "python",
   "nbconvert_exporter": "python",
   "pygments_lexer": "ipython3",
   "version": "3.8.3"
  }
 },
 "nbformat": 4,
 "nbformat_minor": 4
}
