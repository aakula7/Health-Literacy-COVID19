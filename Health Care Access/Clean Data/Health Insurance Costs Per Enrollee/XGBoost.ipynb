{
 "cells": [
  {
   "cell_type": "code",
   "execution_count": 1,
   "metadata": {},
   "outputs": [],
   "source": [
    "%matplotlib inline\n",
    "\n",
    "import pandas as pd\n",
    "import numpy as np\n",
    "from functools import reduce\n",
    "import seaborn as sns\n",
    "import matplotlib.pyplot as plt\n",
    "from mpl_toolkits.mplot3d import Axes3D\n",
    "from pylab import rcParams\n",
    "from matplotlib.backends.backend_agg import FigureCanvasAgg\n",
    "from sklearn.metrics import mean_absolute_error\n",
    "from sklearn.metrics import mean_squared_error\n",
    "from sklearn.metrics import r2_score\n",
    "from math import sqrt\n",
    "from sklearn.preprocessing import StandardScaler\n",
    "from sklearn.model_selection import GridSearchCV, KFold\n",
    "from xgboost import XGBRegressor\n",
    "\n",
    "plt.style.use('seaborn-darkgrid')"
   ]
  },
  {
   "cell_type": "code",
   "execution_count": 2,
   "metadata": {},
   "outputs": [],
   "source": [
    "def evaluate(model, test_features, test_labels):\n",
    "    predictions = model.predict(test_features)\n",
    "    errors = abs(predictions - test_labels)\n",
    "    mape = 100 * np.mean(errors / test_labels)\n",
    "    accuracy = 100 - mape\n",
    "    print('Model Performance')\n",
    "    print('Average Error: {:0.4f} degrees.'.format(np.mean(errors)))\n",
    "    print('Accuracy = {:0.2f}%.'.format(accuracy))\n",
    "    \n",
    "    return accuracy"
   ]
  },
  {
   "cell_type": "code",
   "execution_count": 3,
   "metadata": {},
   "outputs": [
    {
     "data": {
      "text/html": [
       "<div>\n",
       "<style scoped>\n",
       "    .dataframe tbody tr th:only-of-type {\n",
       "        vertical-align: middle;\n",
       "    }\n",
       "\n",
       "    .dataframe tbody tr th {\n",
       "        vertical-align: top;\n",
       "    }\n",
       "\n",
       "    .dataframe thead th {\n",
       "        text-align: right;\n",
       "    }\n",
       "</style>\n",
       "<table border=\"1\" class=\"dataframe\">\n",
       "  <thead>\n",
       "    <tr style=\"text-align: right;\">\n",
       "      <th></th>\n",
       "      <th>State</th>\n",
       "      <th>cases</th>\n",
       "      <th>deaths</th>\n",
       "      <th>Medicare Health Insurance Per Enrollee (2014)</th>\n",
       "      <th>Medicaid Health Insurance Per Enrollee (2014)</th>\n",
       "      <th>Private Health Insurance Per Enrollee (2014)</th>\n",
       "    </tr>\n",
       "  </thead>\n",
       "  <tbody>\n",
       "    <tr>\n",
       "      <td>0</td>\n",
       "      <td>Alabama</td>\n",
       "      <td>26912</td>\n",
       "      <td>785</td>\n",
       "      <td>7180.0</td>\n",
       "      <td>4262.0</td>\n",
       "      <td>3641.0</td>\n",
       "    </tr>\n",
       "    <tr>\n",
       "      <td>1</td>\n",
       "      <td>Alaska</td>\n",
       "      <td>751</td>\n",
       "      <td>10</td>\n",
       "      <td>7041.0</td>\n",
       "      <td>9927.0</td>\n",
       "      <td>5958.0</td>\n",
       "    </tr>\n",
       "    <tr>\n",
       "      <td>2</td>\n",
       "      <td>Arizona</td>\n",
       "      <td>39298</td>\n",
       "      <td>1228</td>\n",
       "      <td>6547.0</td>\n",
       "      <td>4223.0</td>\n",
       "      <td>4035.0</td>\n",
       "    </tr>\n",
       "    <tr>\n",
       "      <td>3</td>\n",
       "      <td>Arkansas</td>\n",
       "      <td>13191</td>\n",
       "      <td>188</td>\n",
       "      <td>6486.0</td>\n",
       "      <td>4342.0</td>\n",
       "      <td>3906.0</td>\n",
       "    </tr>\n",
       "    <tr>\n",
       "      <td>4</td>\n",
       "      <td>California</td>\n",
       "      <td>159098</td>\n",
       "      <td>5202</td>\n",
       "      <td>7669.0</td>\n",
       "      <td>3766.0</td>\n",
       "      <td>4735.0</td>\n",
       "    </tr>\n",
       "  </tbody>\n",
       "</table>\n",
       "</div>"
      ],
      "text/plain": [
       "        State   cases  deaths  Medicare Health Insurance Per Enrollee (2014)  \\\n",
       "0     Alabama   26912     785                                         7180.0   \n",
       "1      Alaska     751      10                                         7041.0   \n",
       "2     Arizona   39298    1228                                         6547.0   \n",
       "3    Arkansas   13191     188                                         6486.0   \n",
       "4  California  159098    5202                                         7669.0   \n",
       "\n",
       "   Medicaid Health Insurance Per Enrollee (2014)  \\\n",
       "0                                         4262.0   \n",
       "1                                         9927.0   \n",
       "2                                         4223.0   \n",
       "3                                         4342.0   \n",
       "4                                         3766.0   \n",
       "\n",
       "   Private Health Insurance Per Enrollee (2014)  \n",
       "0                                        3641.0  \n",
       "1                                        5958.0  \n",
       "2                                        4035.0  \n",
       "3                                        3906.0  \n",
       "4                                        4735.0  "
      ]
     },
     "execution_count": 3,
     "metadata": {},
     "output_type": "execute_result"
    }
   ],
   "source": [
    "InsPerEnrDF = pd.read_csv('COVID_InsPerEnr.csv', index_col = 0)\n",
    "InsPerEnrDF.head()"
   ]
  },
  {
   "cell_type": "code",
   "execution_count": 4,
   "metadata": {},
   "outputs": [
    {
     "data": {
      "text/plain": [
       "State                                            0\n",
       "cases                                            0\n",
       "deaths                                           0\n",
       "Medicare Health Insurance Per Enrollee (2014)    0\n",
       "Medicaid Health Insurance Per Enrollee (2014)    0\n",
       "Private Health Insurance Per Enrollee (2014)     0\n",
       "dtype: int64"
      ]
     },
     "execution_count": 4,
     "metadata": {},
     "output_type": "execute_result"
    }
   ],
   "source": [
    "InsPerEnrDF = InsPerEnrDF.dropna()\n",
    "\n",
    "InsPerEnrDF.isnull().sum()"
   ]
  },
  {
   "cell_type": "code",
   "execution_count": 5,
   "metadata": {},
   "outputs": [
    {
     "name": "stdout",
     "output_type": "stream",
     "text": [
      "Train Set Len: 39\n",
      "Test Set Len: 12\n",
      "Train Set Shape: (39, 6)\n",
      "Test Set Shape: (12, 6)\n"
     ]
    }
   ],
   "source": [
    "test_len = int(0.25 * len(InsPerEnrDF))\n",
    "train_len = len(InsPerEnrDF) - test_len\n",
    "print('Train Set Len: ' + str(train_len))\n",
    "print('Test Set Len: ' + str(test_len))\n",
    "\n",
    "train = InsPerEnrDF[:train_len]\n",
    "test = InsPerEnrDF[train_len:]\n",
    "print('Train Set Shape: ' + str(train.shape))\n",
    "print('Test Set Shape: ' + str(test.shape))"
   ]
  },
  {
   "cell_type": "markdown",
   "metadata": {},
   "source": [
    "## Medicare Health Insurance Per Enrollee (2014)"
   ]
  },
  {
   "cell_type": "code",
   "execution_count": 6,
   "metadata": {},
   "outputs": [
    {
     "name": "stdout",
     "output_type": "stream",
     "text": [
      "Train MAE Value: 92.48416998447516\n",
      "Train MSE Value: 13608.731963585107\n",
      "Train RMS Value: 116.65646987452135\n",
      "Train R2 Score: 0.9999971881743785\n",
      "\n",
      "\n",
      "Test MAE Value: 22696.456136067707\n",
      "Test MSE Value: 755452351.4547423\n",
      "Test RMS Value: 27485.49347300758\n",
      "Test R2 Score: -0.10151502867770912\n"
     ]
    }
   ],
   "source": [
    "features_list = ['Medicare Health Insurance Per Enrollee (2014)']\n",
    "\n",
    "target = 'cases'\n",
    "\n",
    "X_train = train[features_list]\n",
    "y_train = train[target]\n",
    "X_test = test[features_list]\n",
    "y_test = test[target]\n",
    "\n",
    "scaler = StandardScaler()\n",
    "X_train_scaled = scaler.fit_transform(np.array(X_train).reshape(-1, 1))\n",
    "X_test_scaled = scaler.transform(np.array(X_test).reshape(-1, 1))\n",
    "y_train_scaled = scaler.fit_transform(np.array(y_train).reshape(-1, 1))\n",
    "\n",
    "XGBmodel = XGBRegressor()\n",
    "XGBmodel.fit(X_train_scaled, y_train_scaled)\n",
    "\n",
    "train_predictions_scaled = XGBmodel.predict(X_train_scaled)\n",
    "train_predictions = scaler.inverse_transform(train_predictions_scaled)\n",
    "test_predictions_scaled = XGBmodel.predict(X_test_scaled)\n",
    "test_predictions = scaler.inverse_transform(test_predictions_scaled)\n",
    "\n",
    "Train_MAE = mean_absolute_error(y_train, train_predictions)\n",
    "Train_MSE = mean_squared_error(y_train, train_predictions)\n",
    "Train_RMS = sqrt(mean_squared_error(y_train, train_predictions))\n",
    "Train_R2Score = r2_score(y_train, train_predictions)\n",
    "\n",
    "Test_MAE = mean_absolute_error(y_test, test_predictions)\n",
    "Test_MSE = mean_squared_error(y_test, test_predictions)\n",
    "Test_RMS = sqrt(mean_squared_error(y_test, test_predictions))\n",
    "Test_R2Score = r2_score(y_test, test_predictions)\n",
    "\n",
    "print('Train MAE Value:', Train_MAE)\n",
    "print('Train MSE Value:', Train_MSE)\n",
    "print('Train RMS Value:', Train_RMS)\n",
    "print('Train R2 Score:', Train_R2Score)\n",
    "print('\\n')\n",
    "\n",
    "print('Test MAE Value:', Test_MAE)\n",
    "print('Test MSE Value:', Test_MSE)\n",
    "print('Test RMS Value:', Test_RMS)\n",
    "print('Test R2 Score:', Test_R2Score)"
   ]
  },
  {
   "cell_type": "code",
   "execution_count": 7,
   "metadata": {},
   "outputs": [
    {
     "data": {
      "image/png": "[encoded data removed]",
      "text/plain": [
       "<Figure size 1440x720 with 1 Axes>"
      ]
     },
     "metadata": {
      "needs_background": "light"
     },
     "output_type": "display_data"
    }
   ],
   "source": [
    "rcParams['figure.figsize'] = 20, 10\n",
    "\n",
    "plt.figure()\n",
    "\n",
    "plt.scatter(x = train['State'], y = train['cases'], linewidths = 1, alpha = 0.7, edgecolor = 'k', s = 100, cmap = 'inferno')\n",
    "plt.scatter(x = test['State'], y = test['cases'], linewidths = 1, alpha = 0.7, edgecolor = 'k', s = 100, cmap = 'inferno')\n",
    "plt.scatter(x = train['State'], y = train_predictions, linewidths = 1, alpha = 0.7, edgecolor = 'k', s = 100, cmap = 'inferno')\n",
    "plt.title('Medicare Health Insurance Cost Per Enrollee vs. COVID-19 Case Count Per State', fontsize = 16, fontweight = 'bold')\n",
    "plt.xlabel('State', fontsize = 10, fontweight = 'bold')\n",
    "plt.ylabel('COVID-19 Case Count', fontsize = 10, fontweight = 'bold')\n",
    "\n",
    "plt.legend(['Train Data', 'Test Data', 'Train Predictions'])\n",
    "\n",
    "plt.xticks(rotation = 90)\n",
    "plt.show();"
   ]
  },
  {
   "cell_type": "code",
   "execution_count": 8,
   "metadata": {},
   "outputs": [
    {
     "data": {
      "image/png": "[encoded data removed]",
      "text/plain": [
       "<Figure size 1440x720 with 1 Axes>"
      ]
     },
     "metadata": {
      "needs_background": "light"
     },
     "output_type": "display_data"
    }
   ],
   "source": [
    "rcParams['figure.figsize'] = 20, 10\n",
    "\n",
    "plt.figure()\n",
    "\n",
    "plt.scatter(x = train['State'], y = train['cases'], linewidths = 1, alpha = 0.7, edgecolor = 'k', s = 100, cmap = 'inferno')\n",
    "plt.scatter(x = test['State'], y = test['cases'], linewidths = 1, alpha = 0.7, edgecolor = 'k', s = 100, cmap = 'inferno')\n",
    "plt.scatter(x = test['State'], y = test_predictions, linewidths = 1, alpha = 0.7, edgecolor = 'k', s = 100, cmap = 'inferno')\n",
    "plt.title('Medicare Health Insurance Cost Per Enrollee vs. COVID-19 Case Count Per State', fontsize = 16, fontweight = 'bold')\n",
    "plt.xlabel('State', fontsize = 10, fontweight = 'bold')\n",
    "plt.ylabel('COVID-19 Case Count', fontsize = 10, fontweight = 'bold')\n",
    "\n",
    "plt.legend(['Train Data', 'Test Data', 'Test Predictions'])\n",
    "\n",
    "plt.xticks(rotation = 90)\n",
    "plt.show();"
   ]
  },
  {
   "cell_type": "code",
   "execution_count": 9,
   "metadata": {},
   "outputs": [
    {
     "name": "stdout",
     "output_type": "stream",
     "text": [
      "Model Performance\n",
      "Average Error: 0.8306 degrees.\n",
      "Accuracy = 91.23%.\n"
     ]
    },
    {
     "data": {
      "text/plain": [
       "91.22802432323691"
      ]
     },
     "execution_count": 9,
     "metadata": {},
     "output_type": "execute_result"
    }
   ],
   "source": [
    "evaluate(XGBmodel, X_train_scaled, y_train_scaled)"
   ]
  },
  {
   "cell_type": "code",
   "execution_count": 10,
   "metadata": {},
   "outputs": [
    {
     "data": {
      "image/png": "[encoded data removed]",
      "text/plain": [
       "<Figure size 1440x720 with 1 Axes>"
      ]
     },
     "metadata": {
      "needs_background": "light"
     },
     "output_type": "display_data"
    }
   ],
   "source": [
    "rcParams['figure.figsize'] = 20, 10\n",
    "\n",
    "plt.figure()\n",
    "sns.distplot((np.array(test_predictions).reshape(-1) - y_test), bins = 51, color = 'b', hist_kws = {'edgecolor':'k'})\n",
    "plt.title('Medicare Health Insurance Cost Per Enrollee Model Accuracy', fontsize = 16, fontweight = 'bold')\n",
    "plt.xlabel('Cases', fontsize = 10, fontweight = 'bold')\n",
    "plt.ylabel('Frequency', fontsize = 10, fontweight = 'bold')\n",
    "\n",
    "plt.show();"
   ]
  },
  {
   "cell_type": "markdown",
   "metadata": {},
   "source": [
    "### Tuning"
   ]
  },
  {
   "cell_type": "code",
   "execution_count": null,
   "metadata": {},
   "outputs": [
    {
     "name": "stdout",
     "output_type": "stream",
     "text": [
      "Fitting 7 folds for each of 7200 candidates, totalling 50400 fits\n"
     ]
    },
    {
     "name": "stderr",
     "output_type": "stream",
     "text": [
      "[Parallel(n_jobs=-1)]: Using backend LokyBackend with 8 concurrent workers.\n",
      "[Parallel(n_jobs=-1)]: Done  25 tasks      | elapsed:    2.6s\n",
      "[Parallel(n_jobs=-1)]: Done 672 tasks      | elapsed:    5.2s\n",
      "[Parallel(n_jobs=-1)]: Done 2296 tasks      | elapsed:   11.8s\n",
      "[Parallel(n_jobs=-1)]: Done 4560 tasks      | elapsed:   21.2s\n",
      "[Parallel(n_jobs=-1)]: Done 7480 tasks      | elapsed:   33.5s\n"
     ]
    }
   ],
   "source": [
    "param_grid = {\n",
    "    \"learning_rate\": [0.05, 0.06, 0.07, 0.08, 0.09, 0.1],\n",
    "    \"max_depth\": [1, 2, 3, 4, 5, 6, 7, 8, 9, 10],\n",
    "    \"reg_lambda\": [1, 2, 3, 4, 5, 6, 7, 8, 9, 10],\n",
    "    \"colsample_bytree\":[0.7, 0.8, 0.9, 1.0],\n",
    "    \"min_child_weight\": [1, 2, 3]\n",
    "}\n",
    "\n",
    "kfold = KFold(n_splits = 7)\n",
    "\n",
    "XG_GridModel = GridSearchCV(estimator = XGBmodel, param_grid = param_grid, \n",
    "                          cv = kfold, n_jobs = -1, verbose = 2, return_train_score=True)\n",
    "\n",
    "XG_NewModel = XG_GridModel.fit(X_train_scaled, y_train_scaled);"
   ]
  },
  {
   "cell_type": "code",
   "execution_count": null,
   "metadata": {},
   "outputs": [],
   "source": [
    "XG_NewModel.best_params_"
   ]
  },
  {
   "cell_type": "code",
   "execution_count": null,
   "metadata": {},
   "outputs": [],
   "source": [
    "train_predictions_scaled = XG_NewModel.predict(X_train_scaled)\n",
    "train_predictions = scaler.inverse_transform(train_predictions_scaled)\n",
    "test_predictions_scaled = XG_NewModel.predict(X_test_scaled)\n",
    "test_predictions = scaler.inverse_transform(test_predictions_scaled)\n",
    "\n",
    "Train_MAE = mean_absolute_error(y_train, train_predictions)\n",
    "Train_MSE = mean_squared_error(y_train, train_predictions)\n",
    "Train_RMS = sqrt(mean_squared_error(y_train, train_predictions))\n",
    "Train_R2Score = r2_score(y_train, train_predictions)\n",
    "\n",
    "Test_MAE = mean_absolute_error(y_test, test_predictions)\n",
    "Test_MSE = mean_squared_error(y_test, test_predictions)\n",
    "Test_RMS = sqrt(mean_squared_error(y_test, test_predictions))\n",
    "Test_R2Score = r2_score(y_test, test_predictions)\n",
    "\n",
    "print('Train MAE Value:', Train_MAE)\n",
    "print('Train MSE Value:', Train_MSE)\n",
    "print('Train RMS Value:', Train_RMS)\n",
    "print('Train R2 Score:', Train_R2Score)\n",
    "print('\\n')\n",
    "\n",
    "print('Test MAE Value:', Test_MAE)\n",
    "print('Test MSE Value:', Test_MSE)\n",
    "print('Test RMS Value:', Test_RMS)\n",
    "print('Test R2 Score:', Test_R2Score)"
   ]
  },
  {
   "cell_type": "code",
   "execution_count": null,
   "metadata": {},
   "outputs": [],
   "source": [
    "rcParams['figure.figsize'] = 20, 10\n",
    "\n",
    "plt.figure()\n",
    "\n",
    "plt.scatter(x = train['State'], y = train['cases'], linewidths = 1, alpha = 0.7, edgecolor = 'k', s = 100, cmap = 'inferno')\n",
    "plt.scatter(x = test['State'], y = test['cases'], linewidths = 1, alpha = 0.7, edgecolor = 'k', s = 100, cmap = 'inferno')\n",
    "plt.scatter(x = train['State'], y = train_predictions, linewidths = 1, alpha = 0.7, edgecolor = 'k', s = 100, cmap = 'inferno')\n",
    "plt.title('Medicare Health Insurance Costs Per Enrollee vs. COVID-19 Case Count Per State', fontsize = 16, fontweight = 'bold')\n",
    "plt.xlabel('State', fontsize = 10, fontweight = 'bold')\n",
    "plt.ylabel('COVID-19 Case Count', fontsize = 10, fontweight = 'bold')\n",
    "\n",
    "plt.legend(['Train Data', 'Test Data', 'Train Predictions'])\n",
    "\n",
    "plt.xticks(rotation = 90)\n",
    "plt.show();"
   ]
  },
  {
   "cell_type": "code",
   "execution_count": null,
   "metadata": {},
   "outputs": [],
   "source": [
    "rcParams['figure.figsize'] = 20, 10\n",
    "\n",
    "plt.figure()\n",
    "\n",
    "plt.scatter(x = train['State'], y = train['cases'], linewidths = 1, alpha = 0.7, edgecolor = 'k', s = 100, cmap = 'inferno')\n",
    "plt.scatter(x = test['State'], y = test['cases'], linewidths = 1, alpha = 0.7, edgecolor = 'k', s = 100, cmap = 'inferno')\n",
    "plt.scatter(x = test['State'], y = test_predictions, linewidths = 1, alpha = 0.7, edgecolor = 'k', s = 100, cmap = 'inferno')\n",
    "plt.title('Medicare Health Insurance Costs Per Enrollee Per Enrollee vs. COVID-19 Case Count Per State', fontsize = 16, fontweight = 'bold')\n",
    "plt.xlabel('State', fontsize = 10, fontweight = 'bold')\n",
    "plt.ylabel('COVID-19 Case Count', fontsize = 10, fontweight = 'bold')\n",
    "\n",
    "plt.legend(['Train Data', 'Test Data', 'Test Predictions'])\n",
    "\n",
    "plt.xticks(rotation = 90)\n",
    "plt.show();"
   ]
  },
  {
   "cell_type": "code",
   "execution_count": null,
   "metadata": {},
   "outputs": [],
   "source": [
    "base_accuracy = evaluate(XGBmodel, X_train_scaled, y_train_scaled)"
   ]
  },
  {
   "cell_type": "code",
   "execution_count": null,
   "metadata": {},
   "outputs": [],
   "source": [
    "new_accuracy = evaluate(XG_NewModel, X_train_scaled, y_train_scaled)"
   ]
  },
  {
   "cell_type": "code",
   "execution_count": null,
   "metadata": {},
   "outputs": [],
   "source": [
    "print('Improvement of {:0.2f}%.'.format( 100 * (new_accuracy - base_accuracy) / new_accuracy))"
   ]
  },
  {
   "cell_type": "code",
   "execution_count": null,
   "metadata": {},
   "outputs": [],
   "source": [
    "rcParams['figure.figsize'] = 20, 10\n",
    "\n",
    "plt.figure()\n",
    "sns.distplot((np.array(test_predictions).reshape(-1) - y_test), bins = 51, color = 'b', hist_kws = {'edgecolor':'k'})\n",
    "plt.title('Medicare Health Insurance Costs Per Enrollee Model Accuracy', fontsize = 16, fontweight = 'bold')\n",
    "plt.xlabel('Cases', fontsize = 10, fontweight = 'bold')\n",
    "plt.ylabel('Frequency', fontsize = 10, fontweight = 'bold')\n",
    "\n",
    "plt.show();"
   ]
  },
  {
   "cell_type": "markdown",
   "metadata": {},
   "source": [
    "## Medicaid Health Insurance Per Enrollee (2014)"
   ]
  },
  {
   "cell_type": "code",
   "execution_count": null,
   "metadata": {},
   "outputs": [],
   "source": [
    "features_list = ['Medicaid Health Insurance Per Enrollee (2014)']\n",
    "\n",
    "target = 'cases'\n",
    "\n",
    "X_train = train[features_list]\n",
    "y_train = train[target]\n",
    "X_test = test[features_list]\n",
    "y_test = test[target]\n",
    "\n",
    "scaler = StandardScaler()\n",
    "X_train_scaled = scaler.fit_transform(np.array(X_train).reshape(-1, 1))\n",
    "X_test_scaled = scaler.transform(np.array(X_test).reshape(-1, 1))\n",
    "y_train_scaled = scaler.fit_transform(np.array(y_train).reshape(-1, 1))\n",
    "\n",
    "XGBmodel = XGBRegressor()\n",
    "XGBmodel.fit(X_train_scaled, y_train_scaled)\n",
    "\n",
    "train_predictions_scaled = XGBmodel.predict(X_train_scaled)\n",
    "train_predictions = scaler.inverse_transform(train_predictions_scaled)\n",
    "test_predictions_scaled = XGBmodel.predict(X_test_scaled)\n",
    "test_predictions = scaler.inverse_transform(test_predictions_scaled)\n",
    "\n",
    "Train_MAE = mean_absolute_error(y_train, train_predictions)\n",
    "Train_MSE = mean_squared_error(y_train, train_predictions)\n",
    "Train_RMS = sqrt(mean_squared_error(y_train, train_predictions))\n",
    "Train_R2Score = r2_score(y_train, train_predictions)\n",
    "\n",
    "Test_MAE = mean_absolute_error(y_test, test_predictions)\n",
    "Test_MSE = mean_squared_error(y_test, test_predictions)\n",
    "Test_RMS = sqrt(mean_squared_error(y_test, test_predictions))\n",
    "Test_R2Score = r2_score(y_test, test_predictions)\n",
    "\n",
    "print('Train MAE Value:', Train_MAE)\n",
    "print('Train MSE Value:', Train_MSE)\n",
    "print('Train RMS Value:', Train_RMS)\n",
    "print('Train R2 Score:', Train_R2Score)\n",
    "print('\\n')\n",
    "\n",
    "print('Test MAE Value:', Test_MAE)\n",
    "print('Test MSE Value:', Test_MSE)\n",
    "print('Test RMS Value:', Test_RMS)\n",
    "print('Test R2 Score:', Test_R2Score)"
   ]
  },
  {
   "cell_type": "code",
   "execution_count": null,
   "metadata": {},
   "outputs": [],
   "source": [
    "rcParams['figure.figsize'] = 20, 10\n",
    "\n",
    "plt.figure()\n",
    "\n",
    "plt.scatter(x = train['State'], y = train['cases'], linewidths = 1, alpha = 0.7, edgecolor = 'k', s = 100, cmap = 'inferno')\n",
    "plt.scatter(x = test['State'], y = test['cases'], linewidths = 1, alpha = 0.7, edgecolor = 'k', s = 100, cmap = 'inferno')\n",
    "plt.scatter(x = train['State'], y = train_predictions, linewidths = 1, alpha = 0.7, edgecolor = 'k', s = 100, cmap = 'inferno')\n",
    "plt.title('Medicaid Health Insurance Costs Per Enrollee vs. COVID-19 Case Count Per State', fontsize = 16, fontweight = 'bold')\n",
    "plt.xlabel('State', fontsize = 10, fontweight = 'bold')\n",
    "plt.ylabel('COVID-19 Case Count', fontsize = 10, fontweight = 'bold')\n",
    "\n",
    "plt.legend(['Train Data', 'Test Data', 'Train Predictions'])\n",
    "\n",
    "plt.xticks(rotation = 90)\n",
    "plt.show();\n"
   ]
  },
  {
   "cell_type": "code",
   "execution_count": null,
   "metadata": {},
   "outputs": [],
   "source": [
    "rcParams['figure.figsize'] = 20, 10\n",
    "\n",
    "plt.figure()\n",
    "\n",
    "plt.scatter(x = train['State'], y = train['cases'], linewidths = 1, alpha = 0.7, edgecolor = 'k', s = 100, cmap = 'inferno')\n",
    "plt.scatter(x = test['State'], y = test['cases'], linewidths = 1, alpha = 0.7, edgecolor = 'k', s = 100, cmap = 'inferno')\n",
    "plt.scatter(x = test['State'], y = test_predictions, linewidths = 1, alpha = 0.7, edgecolor = 'k', s = 100, cmap = 'inferno')\n",
    "plt.title('Medicaid Health Insurance Costs Per Enrollee vs. COVID-19 Case Count Per State', fontsize = 16, fontweight = 'bold')\n",
    "plt.xlabel('State', fontsize = 10, fontweight = 'bold')\n",
    "plt.ylabel('COVID-19 Case Count', fontsize = 10, fontweight = 'bold')\n",
    "\n",
    "plt.legend(['Train Data', 'Test Data', 'Test Predictions'])\n",
    "\n",
    "plt.xticks(rotation = 90)\n",
    "plt.show();"
   ]
  },
  {
   "cell_type": "code",
   "execution_count": null,
   "metadata": {},
   "outputs": [],
   "source": [
    "evaluate(XGBmodel, X_train_scaled, y_train_scaled)"
   ]
  },
  {
   "cell_type": "code",
   "execution_count": null,
   "metadata": {},
   "outputs": [],
   "source": [
    "rcParams['figure.figsize'] = 20, 10\n",
    "\n",
    "plt.figure()\n",
    "sns.distplot((np.array(test_predictions).reshape(-1) - y_test), bins = 51, color = 'b', hist_kws = {'edgecolor':'k'})\n",
    "plt.title('Medicaid Health Insurance Costs Per Enrollee Model Accuracy', fontsize = 16, fontweight = 'bold')\n",
    "plt.xlabel('Cases', fontsize = 10, fontweight = 'bold')\n",
    "plt.ylabel('Frequency', fontsize = 10, fontweight = 'bold')\n",
    "\n",
    "plt.show();"
   ]
  },
  {
   "cell_type": "markdown",
   "metadata": {},
   "source": [
    "### Tuning"
   ]
  },
  {
   "cell_type": "code",
   "execution_count": null,
   "metadata": {},
   "outputs": [],
   "source": [
    "param_grid = {\n",
    "    \"learning_rate\": [0.05, 0.06, 0.07, 0.08, 0.09, 0.1],\n",
    "    \"max_depth\": [1, 2, 3, 4, 5, 6, 7, 8, 9, 10],\n",
    "    \"reg_lambda\": [1, 2, 3, 4, 5, 6, 7, 8, 9, 10],\n",
    "    \"colsample_bytree\":[0.7, 0.8, 0.9, 1.0],\n",
    "    \"min_child_weight\": [1, 2, 3]\n",
    "}\n",
    "\n",
    "kfold = KFold(n_splits = 7)\n",
    "\n",
    "XG_GridModel = GridSearchCV(estimator = XGBmodel, param_grid = param_grid, \n",
    "                          cv = kfold, n_jobs = -1, verbose = 2, return_train_score=True)\n",
    "\n",
    "XG_NewModel = XG_GridModel.fit(X_train_scaled, y_train_scaled);"
   ]
  },
  {
   "cell_type": "code",
   "execution_count": null,
   "metadata": {},
   "outputs": [],
   "source": [
    "XG_NewModel.best_params_"
   ]
  },
  {
   "cell_type": "code",
   "execution_count": null,
   "metadata": {},
   "outputs": [],
   "source": [
    "train_predictions_scaled = XG_NewModel.predict(X_train_scaled)\n",
    "train_predictions = scaler.inverse_transform(train_predictions_scaled)\n",
    "test_predictions_scaled = XG_NewModel.predict(X_test_scaled)\n",
    "test_predictions = scaler.inverse_transform(test_predictions_scaled)\n",
    "\n",
    "Train_MAE = mean_absolute_error(y_train, train_predictions)\n",
    "Train_MSE = mean_squared_error(y_train, train_predictions)\n",
    "Train_RMS = sqrt(mean_squared_error(y_train, train_predictions))\n",
    "Train_R2Score = r2_score(y_train, train_predictions)\n",
    "\n",
    "Test_MAE = mean_absolute_error(y_test, test_predictions)\n",
    "Test_MSE = mean_squared_error(y_test, test_predictions)\n",
    "Test_RMS = sqrt(mean_squared_error(y_test, test_predictions))\n",
    "Test_R2Score = r2_score(y_test, test_predictions)\n",
    "\n",
    "print('Train MAE Value:', Train_MAE)\n",
    "print('Train MSE Value:', Train_MSE)\n",
    "print('Train RMS Value:', Train_RMS)\n",
    "print('Train R2 Score:', Train_R2Score)\n",
    "print('\\n')\n",
    "\n",
    "print('Test MAE Value:', Test_MAE)\n",
    "print('Test MSE Value:', Test_MSE)\n",
    "print('Test RMS Value:', Test_RMS)\n",
    "print('Test R2 Score:', Test_R2Score)"
   ]
  },
  {
   "cell_type": "code",
   "execution_count": null,
   "metadata": {},
   "outputs": [],
   "source": [
    "rcParams['figure.figsize'] = 20, 10\n",
    "\n",
    "plt.figure()\n",
    "\n",
    "plt.scatter(x = train['State'], y = train['cases'], linewidths = 1, alpha = 0.7, edgecolor = 'k', s = 100, cmap = 'inferno')\n",
    "plt.scatter(x = test['State'], y = test['cases'], linewidths = 1, alpha = 0.7, edgecolor = 'k', s = 100, cmap = 'inferno')\n",
    "plt.scatter(x = train['State'], y = train_predictions, linewidths = 1, alpha = 0.7, edgecolor = 'k', s = 100, cmap = 'inferno')\n",
    "plt.title('Medicaid Health Insurance Costs Per Enrollee vs. COVID-19 Case Count Per State', fontsize = 16, fontweight = 'bold')\n",
    "plt.xlabel('State', fontsize = 10, fontweight = 'bold')\n",
    "plt.ylabel('COVID-19 Case Count', fontsize = 10, fontweight = 'bold')\n",
    "\n",
    "plt.legend(['Train Data', 'Test Data', 'Train Predictions'])\n",
    "\n",
    "plt.xticks(rotation = 90)\n",
    "plt.show();"
   ]
  },
  {
   "cell_type": "code",
   "execution_count": null,
   "metadata": {},
   "outputs": [],
   "source": [
    "rcParams['figure.figsize'] = 20, 10\n",
    "\n",
    "plt.figure()\n",
    "\n",
    "plt.scatter(x = train['State'], y = train['cases'], linewidths = 1, alpha = 0.7, edgecolor = 'k', s = 100, cmap = 'inferno')\n",
    "plt.scatter(x = test['State'], y = test['cases'], linewidths = 1, alpha = 0.7, edgecolor = 'k', s = 100, cmap = 'inferno')\n",
    "plt.scatter(x = test['State'], y = test_predictions, linewidths = 1, alpha = 0.7, edgecolor = 'k', s = 100, cmap = 'inferno')\n",
    "plt.title('Medicaid Health Insurance Costs Per Enrollee Per Enrollee vs. COVID-19 Case Count Per State', fontsize = 16, fontweight = 'bold')\n",
    "plt.xlabel('State', fontsize = 10, fontweight = 'bold')\n",
    "plt.ylabel('COVID-19 Case Count', fontsize = 10, fontweight = 'bold')\n",
    "\n",
    "plt.legend(['Train Data', 'Test Data', 'Test Predictions'])\n",
    "\n",
    "plt.xticks(rotation = 90)\n",
    "plt.show();"
   ]
  },
  {
   "cell_type": "code",
   "execution_count": null,
   "metadata": {},
   "outputs": [],
   "source": [
    "base_accuracy = evaluate(XGBmodel, X_train_scaled, y_train_scaled)"
   ]
  },
  {
   "cell_type": "code",
   "execution_count": null,
   "metadata": {},
   "outputs": [],
   "source": [
    "new_accuracy = evaluate(XG_NewModel, X_train_scaled, y_train_scaled)"
   ]
  },
  {
   "cell_type": "code",
   "execution_count": null,
   "metadata": {},
   "outputs": [],
   "source": [
    "print('Improvement of {:0.2f}%.'.format( 100 * (new_accuracy - base_accuracy) / new_accuracy))"
   ]
  },
  {
   "cell_type": "code",
   "execution_count": null,
   "metadata": {},
   "outputs": [],
   "source": [
    "rcParams['figure.figsize'] = 20, 10\n",
    "\n",
    "plt.figure()\n",
    "sns.distplot((np.array(test_predictions).reshape(-1) - y_test), bins = 51, color = 'b', hist_kws = {'edgecolor':'k'})\n",
    "plt.title('Medicaid Health Insurance Costs Per Enrollee Model Accuracy', fontsize = 16, fontweight = 'bold')\n",
    "plt.xlabel('Cases', fontsize = 10, fontweight = 'bold')\n",
    "plt.ylabel('Frequency', fontsize = 10, fontweight = 'bold')\n",
    "\n",
    "plt.show();"
   ]
  },
  {
   "cell_type": "markdown",
   "metadata": {},
   "source": [
    "## Private Health Insurance Per Enrollee (2014)"
   ]
  },
  {
   "cell_type": "code",
   "execution_count": null,
   "metadata": {},
   "outputs": [],
   "source": [
    "features_list = [ 'Private Health Insurance Per Enrollee (2014)']\n",
    "\n",
    "target = 'cases'\n",
    "\n",
    "X_train = train[features_list]\n",
    "y_train = train[target]\n",
    "X_test = test[features_list]\n",
    "y_test = test[target]\n",
    "\n",
    "scaler = StandardScaler()\n",
    "X_train_scaled = scaler.fit_transform(np.array(X_train).reshape(-1, 1))\n",
    "X_test_scaled = scaler.transform(np.array(X_test).reshape(-1, 1))\n",
    "y_train_scaled = scaler.fit_transform(np.array(y_train).reshape(-1, 1))\n",
    "\n",
    "XGBmodel = XGBRegressor()\n",
    "XGBmodel.fit(X_train_scaled, y_train_scaled)\n",
    "\n",
    "train_predictions_scaled = XGBmodel.predict(X_train_scaled)\n",
    "train_predictions = scaler.inverse_transform(train_predictions_scaled)\n",
    "test_predictions_scaled = XGBmodel.predict(X_test_scaled)\n",
    "test_predictions = scaler.inverse_transform(test_predictions_scaled)\n",
    "\n",
    "Train_MAE = mean_absolute_error(y_train, train_predictions)\n",
    "Train_MSE = mean_squared_error(y_train, train_predictions)\n",
    "Train_RMS = sqrt(mean_squared_error(y_train, train_predictions))\n",
    "Train_R2Score = r2_score(y_train, train_predictions)\n",
    "\n",
    "Test_MAE = mean_absolute_error(y_test, test_predictions)\n",
    "Test_MSE = mean_squared_error(y_test, test_predictions)\n",
    "Test_RMS = sqrt(mean_squared_error(y_test, test_predictions))\n",
    "Test_R2Score = r2_score(y_test, test_predictions)\n",
    "\n",
    "print('Train MAE Value:', Train_MAE)\n",
    "print('Train MSE Value:', Train_MSE)\n",
    "print('Train RMS Value:', Train_RMS)\n",
    "print('Train R2 Score:', Train_R2Score)\n",
    "print('\\n')\n",
    "\n",
    "print('Test MAE Value:', Test_MAE)\n",
    "print('Test MSE Value:', Test_MSE)\n",
    "print('Test RMS Value:', Test_RMS)\n",
    "print('Test R2 Score:', Test_R2Score)"
   ]
  },
  {
   "cell_type": "code",
   "execution_count": null,
   "metadata": {},
   "outputs": [],
   "source": [
    "rcParams['figure.figsize'] = 20, 10\n",
    "\n",
    "plt.figure()\n",
    "\n",
    "plt.scatter(x = train['State'], y = train['cases'], linewidths = 1, alpha = 0.7, edgecolor = 'k', s = 100, cmap = 'inferno')\n",
    "plt.scatter(x = test['State'], y = test['cases'], linewidths = 1, alpha = 0.7, edgecolor = 'k', s = 100, cmap = 'inferno')\n",
    "plt.scatter(x = train['State'], y = train_predictions, linewidths = 1, alpha = 0.7, edgecolor = 'k', s = 100, cmap = 'inferno')\n",
    "plt.title('Private Health Insurance Costs Per Enrollee vs. COVID-19 Case Count Per State', fontsize = 16, fontweight = 'bold')\n",
    "plt.xlabel('State', fontsize = 10, fontweight = 'bold')\n",
    "plt.ylabel('COVID-19 Case Count', fontsize = 10, fontweight = 'bold')\n",
    "\n",
    "plt.legend(['Train Data', 'Test Data', 'Train Predictions'])\n",
    "\n",
    "plt.xticks(rotation = 90)\n",
    "plt.show();"
   ]
  },
  {
   "cell_type": "code",
   "execution_count": null,
   "metadata": {},
   "outputs": [],
   "source": [
    "rcParams['figure.figsize'] = 20, 10\n",
    "\n",
    "plt.figure()\n",
    "\n",
    "plt.scatter(x = train['State'], y = train['cases'], linewidths = 1, alpha = 0.7, edgecolor = 'k', s = 100, cmap = 'inferno')\n",
    "plt.scatter(x = test['State'], y = test['cases'], linewidths = 1, alpha = 0.7, edgecolor = 'k', s = 100, cmap = 'inferno')\n",
    "plt.scatter(x = test['State'], y = test_predictions, linewidths = 1, alpha = 0.7, edgecolor = 'k', s = 100, cmap = 'inferno')\n",
    "plt.title('Private Health Insurance Costs Per Enrollee vs. COVID-19 Case Count Per State', fontsize = 16, fontweight = 'bold')\n",
    "plt.xlabel('State', fontsize = 10, fontweight = 'bold')\n",
    "plt.ylabel('COVID-19 Case Count', fontsize = 10, fontweight = 'bold')\n",
    "\n",
    "plt.legend(['Train Data', 'Test Data', 'Test Predictions'])\n",
    "\n",
    "plt.xticks(rotation = 90)\n",
    "plt.show();"
   ]
  },
  {
   "cell_type": "code",
   "execution_count": null,
   "metadata": {},
   "outputs": [],
   "source": [
    "evaluate(XGBmodel, X_train_scaled, y_train_scaled)"
   ]
  },
  {
   "cell_type": "code",
   "execution_count": null,
   "metadata": {},
   "outputs": [],
   "source": [
    "rcParams['figure.figsize'] = 20, 10\n",
    "\n",
    "plt.figure()\n",
    "sns.distplot((np.array(test_predictions).reshape(-1) - y_test), bins = 51, color = 'b', hist_kws = {'edgecolor':'k'})\n",
    "plt.title('Private Health Insurance Costs Per Enrollee Model Accuracy', fontsize = 16, fontweight = 'bold')\n",
    "plt.xlabel('Cases', fontsize = 10, fontweight = 'bold')\n",
    "plt.ylabel('Frequency', fontsize = 10, fontweight = 'bold')\n",
    "\n",
    "plt.show();"
   ]
  },
  {
   "cell_type": "markdown",
   "metadata": {},
   "source": [
    "### Tuning"
   ]
  },
  {
   "cell_type": "code",
   "execution_count": null,
   "metadata": {},
   "outputs": [],
   "source": [
    "param_grid = {\n",
    "    \"learning_rate\": [0.05, 0.06, 0.07, 0.08, 0.09, 0.1],\n",
    "    \"max_depth\": [1, 2, 3, 4, 5, 6, 7, 8, 9, 10],\n",
    "    \"reg_lambda\": [1, 2, 3, 4, 5, 6, 7, 8, 9, 10],\n",
    "    \"colsample_bytree\":[0.7, 0.8, 0.9, 1.0],\n",
    "    \"min_child_weight\": [1, 2, 3]\n",
    "}\n",
    "\n",
    "kfold = KFold(n_splits = 7)\n",
    "\n",
    "XG_GridModel = GridSearchCV(estimator = XGBmodel, param_grid = param_grid, \n",
    "                          cv = kfold, n_jobs = -1, verbose = 2, return_train_score=True)\n",
    "\n",
    "XG_NewModel = XG_GridModel.fit(X_train_scaled, y_train_scaled);"
   ]
  },
  {
   "cell_type": "code",
   "execution_count": null,
   "metadata": {},
   "outputs": [],
   "source": [
    "XG_NewModel.best_params_"
   ]
  },
  {
   "cell_type": "code",
   "execution_count": null,
   "metadata": {},
   "outputs": [],
   "source": [
    "train_predictions_scaled = XG_NewModel.predict(X_train_scaled)\n",
    "train_predictions = scaler.inverse_transform(train_predictions_scaled)\n",
    "test_predictions_scaled = XG_NewModel.predict(X_test_scaled)\n",
    "test_predictions = scaler.inverse_transform(test_predictions_scaled)\n",
    "\n",
    "Train_MAE = mean_absolute_error(y_train, train_predictions)\n",
    "Train_MSE = mean_squared_error(y_train, train_predictions)\n",
    "Train_RMS = sqrt(mean_squared_error(y_train, train_predictions))\n",
    "Train_R2Score = r2_score(y_train, train_predictions)\n",
    "\n",
    "Test_MAE = mean_absolute_error(y_test, test_predictions)\n",
    "Test_MSE = mean_squared_error(y_test, test_predictions)\n",
    "Test_RMS = sqrt(mean_squared_error(y_test, test_predictions))\n",
    "Test_R2Score = r2_score(y_test, test_predictions)\n",
    "\n",
    "print('Train MAE Value:', Train_MAE)\n",
    "print('Train MSE Value:', Train_MSE)\n",
    "print('Train RMS Value:', Train_RMS)\n",
    "print('Train R2 Score:', Train_R2Score)\n",
    "print('\\n')\n",
    "\n",
    "print('Test MAE Value:', Test_MAE)\n",
    "print('Test MSE Value:', Test_MSE)\n",
    "print('Test RMS Value:', Test_RMS)\n",
    "print('Test R2 Score:', Test_R2Score)"
   ]
  },
  {
   "cell_type": "code",
   "execution_count": null,
   "metadata": {},
   "outputs": [],
   "source": [
    "rcParams['figure.figsize'] = 20, 10\n",
    "\n",
    "plt.figure()\n",
    "\n",
    "plt.scatter(x = train['State'], y = train['cases'], linewidths = 1, alpha = 0.7, edgecolor = 'k', s = 100, cmap = 'inferno')\n",
    "plt.scatter(x = test['State'], y = test['cases'], linewidths = 1, alpha = 0.7, edgecolor = 'k', s = 100, cmap = 'inferno')\n",
    "plt.scatter(x = train['State'], y = train_predictions, linewidths = 1, alpha = 0.7, edgecolor = 'k', s = 100, cmap = 'inferno')\n",
    "plt.title('Private Health Insurance Costs Per Enrollee vs. COVID-19 Case Count Per State', fontsize = 16, fontweight = 'bold')\n",
    "plt.xlabel('State', fontsize = 10, fontweight = 'bold')\n",
    "plt.ylabel('COVID-19 Case Count', fontsize = 10, fontweight = 'bold')\n",
    "\n",
    "plt.legend(['Train Data', 'Test Data', 'Train Predictions'])\n",
    "\n",
    "plt.xticks(rotation = 90)\n",
    "plt.show();"
   ]
  },
  {
   "cell_type": "code",
   "execution_count": null,
   "metadata": {},
   "outputs": [],
   "source": [
    "rcParams['figure.figsize'] = 20, 10\n",
    "\n",
    "plt.figure()\n",
    "\n",
    "plt.scatter(x = train['State'], y = train['cases'], linewidths = 1, alpha = 0.7, edgecolor = 'k', s = 100, cmap = 'inferno')\n",
    "plt.scatter(x = test['State'], y = test['cases'], linewidths = 1, alpha = 0.7, edgecolor = 'k', s = 100, cmap = 'inferno')\n",
    "plt.scatter(x = test['State'], y = test_predictions, linewidths = 1, alpha = 0.7, edgecolor = 'k', s = 100, cmap = 'inferno')\n",
    "plt.title('Private Health Insurance Costs Per Enrollee Per Enrollee vs. COVID-19 Case Count Per State', fontsize = 16, fontweight = 'bold')\n",
    "plt.xlabel('State', fontsize = 10, fontweight = 'bold')\n",
    "plt.ylabel('COVID-19 Case Count', fontsize = 10, fontweight = 'bold')\n",
    "\n",
    "plt.legend(['Train Data', 'Test Data', 'Test Predictions'])\n",
    "\n",
    "plt.xticks(rotation = 90)\n",
    "plt.show();"
   ]
  },
  {
   "cell_type": "code",
   "execution_count": null,
   "metadata": {},
   "outputs": [],
   "source": [
    "base_accuracy = evaluate(XGBmodel, X_train_scaled, y_train_scaled)"
   ]
  },
  {
   "cell_type": "code",
   "execution_count": null,
   "metadata": {},
   "outputs": [],
   "source": [
    "new_accuracy = evaluate(XG_NewModel, X_train_scaled, y_train_scaled)"
   ]
  },
  {
   "cell_type": "code",
   "execution_count": null,
   "metadata": {},
   "outputs": [],
   "source": [
    "print('Improvement of {:0.2f}%.'.format( 100 * (new_accuracy - base_accuracy) / new_accuracy))"
   ]
  },
  {
   "cell_type": "code",
   "execution_count": null,
   "metadata": {},
   "outputs": [],
   "source": [
    "rcParams['figure.figsize'] = 20, 10\n",
    "\n",
    "plt.figure()\n",
    "sns.distplot((np.array(test_predictions).reshape(-1) - y_test), bins = 51, color = 'b', hist_kws = {'edgecolor':'k'})\n",
    "plt.title('Private Health Insurance Costs Per Enrollee Model Accuracy', fontsize = 16, fontweight = 'bold')\n",
    "plt.xlabel('Cases', fontsize = 10, fontweight = 'bold')\n",
    "plt.ylabel('Frequency', fontsize = 10, fontweight = 'bold')\n",
    "\n",
    "plt.show();"
   ]
  },
  {
   "cell_type": "markdown",
   "metadata": {},
   "source": [
    "## Overall Health Insurance Costs Per Enrollee"
   ]
  },
  {
   "cell_type": "code",
   "execution_count": null,
   "metadata": {},
   "outputs": [],
   "source": [
    "features_list = ['Medicare Health Insurance Per Enrollee (2014)', 'Medicaid Health Insurance Per Enrollee (2014)',\n",
    "                 'Private Health Insurance Per Enrollee (2014)']\n",
    "\n",
    "target = 'cases'\n",
    "\n",
    "X_train = train[features_list]\n",
    "y_train = train[target]\n",
    "X_test = test[features_list]\n",
    "y_test = test[target]\n",
    "\n",
    "scaler = StandardScaler()\n",
    "X_train_scaled = scaler.fit_transform(X_train)\n",
    "X_test_scaled = scaler.transform(X_test)\n",
    "y_train_scaled = scaler.fit_transform(np.array(y_train).reshape(-1, 1))\n",
    "\n",
    "XGBmodel = XGBRegressor()\n",
    "XGBmodel.fit(X_train_scaled, y_train_scaled)\n",
    "\n",
    "train_predictions_scaled = XGBmodel.predict(X_train_scaled)\n",
    "train_predictions = scaler.inverse_transform(train_predictions_scaled)\n",
    "test_predictions_scaled = XGBmodel.predict(X_test_scaled)\n",
    "test_predictions = scaler.inverse_transform(test_predictions_scaled)\n",
    "\n",
    "Train_MAE = mean_absolute_error(y_train, train_predictions)\n",
    "Train_MSE = mean_squared_error(y_train, train_predictions)\n",
    "Train_RMS = sqrt(mean_squared_error(y_train, train_predictions))\n",
    "Train_R2Score = r2_score(y_train, train_predictions)\n",
    "\n",
    "Test_MAE = mean_absolute_error(y_test, test_predictions)\n",
    "Test_MSE = mean_squared_error(y_test, test_predictions)\n",
    "Test_RMS = sqrt(mean_squared_error(y_test, test_predictions))\n",
    "Test_R2Score = r2_score(y_test, test_predictions)\n",
    "\n",
    "print('Train MAE Value:', Train_MAE)\n",
    "print('Train MSE Value:', Train_MSE)\n",
    "print('Train RMS Value:', Train_RMS)\n",
    "print('Train R2 Score:', Train_R2Score)\n",
    "print('\\n')\n",
    "\n",
    "print('Test MAE Value:', Test_MAE)\n",
    "print('Test MSE Value:', Test_MSE)\n",
    "print('Test RMS Value:', Test_RMS)\n",
    "print('Test R2 Score:', Test_R2Score)"
   ]
  },
  {
   "cell_type": "code",
   "execution_count": null,
   "metadata": {},
   "outputs": [],
   "source": [
    "rcParams['figure.figsize'] = 20, 10\n",
    "\n",
    "plt.figure()\n",
    "\n",
    "plt.scatter(x = train['State'], y = train['cases'], linewidths = 1, alpha = 0.7, edgecolor = 'k', s = 100, cmap = 'inferno')\n",
    "plt.scatter(x = test['State'], y = test['cases'], linewidths = 1, alpha = 0.7, edgecolor = 'k', s = 100, cmap = 'inferno')\n",
    "plt.scatter(x = train['State'], y = train_predictions, linewidths = 1, alpha = 0.7, edgecolor = 'k', s = 100, cmap = 'inferno')\n",
    "plt.title('Overall Health Insurance Costs Per Enrollee vs. COVID-19 Case Count Per State', fontsize = 16, fontweight = 'bold')\n",
    "plt.xlabel('State', fontsize = 10, fontweight = 'bold')\n",
    "plt.ylabel('COVID-19 Case Count', fontsize = 10, fontweight = 'bold')\n",
    "\n",
    "plt.legend(['Train Data', 'Test Data', 'Train Predictions'])\n",
    "\n",
    "plt.xticks(rotation = 90)\n",
    "plt.show();"
   ]
  },
  {
   "cell_type": "code",
   "execution_count": null,
   "metadata": {},
   "outputs": [],
   "source": [
    "rcParams['figure.figsize'] = 20, 10\n",
    "\n",
    "plt.figure()\n",
    "\n",
    "plt.scatter(x = train['State'], y = train['cases'], linewidths = 1, alpha = 0.7, edgecolor = 'k', s = 100, cmap = 'inferno')\n",
    "plt.scatter(x = test['State'], y = test['cases'], linewidths = 1, alpha = 0.7, edgecolor = 'k', s = 100, cmap = 'inferno')\n",
    "plt.scatter(x = test['State'], y = test_predictions, linewidths = 1, alpha = 0.7, edgecolor = 'k', s = 100, cmap = 'inferno')\n",
    "plt.title('Overall Health Insurance Costs Per Enrollee vs. COVID-19 Case Count Per State', fontsize = 16, fontweight = 'bold')\n",
    "plt.xlabel('State', fontsize = 10, fontweight = 'bold')\n",
    "plt.ylabel('COVID-19 Case Count', fontsize = 10, fontweight = 'bold')\n",
    "\n",
    "plt.legend(['Train Data', 'Test Data', 'Test Predictions'])\n",
    "\n",
    "plt.xticks(rotation = 90)\n",
    "plt.show();"
   ]
  },
  {
   "cell_type": "code",
   "execution_count": null,
   "metadata": {},
   "outputs": [],
   "source": [
    "evaluate(XGBmodel, X_train_scaled, y_train_scaled)"
   ]
  },
  {
   "cell_type": "code",
   "execution_count": null,
   "metadata": {},
   "outputs": [],
   "source": [
    "rcParams['figure.figsize'] = 20, 10\n",
    "\n",
    "plt.figure()\n",
    "sns.distplot((np.array(test_predictions).reshape(-1) - y_test), bins = 51, color = 'b', hist_kws = {'edgecolor':'k'})\n",
    "plt.title('Overall Health Insurance Costs Per Enrollee Model Accuracy', fontsize = 16, fontweight = 'bold')\n",
    "plt.xlabel('Cases', fontsize = 10, fontweight = 'bold')\n",
    "plt.ylabel('Frequency', fontsize = 10, fontweight = 'bold')\n",
    "\n",
    "plt.show();"
   ]
  },
  {
   "cell_type": "markdown",
   "metadata": {},
   "source": [
    "### Tuning"
   ]
  },
  {
   "cell_type": "code",
   "execution_count": null,
   "metadata": {},
   "outputs": [],
   "source": [
    "param_grid = {\n",
    "    \"learning_rate\": [0.05, 0.06, 0.07, 0.08, 0.09, 0.1],\n",
    "    \"max_depth\": [1, 2, 3, 4, 5, 6, 7, 8, 9, 10],\n",
    "    \"reg_lambda\": [1, 2, 3, 4, 5, 6, 7, 8, 9, 10],\n",
    "    \"colsample_bytree\":[0.7, 0.8, 0.9, 1.0],\n",
    "    \"min_child_weight\": [1, 2, 3]\n",
    "}\n",
    "\n",
    "kfold = KFold(n_splits = 7)\n",
    "\n",
    "XG_GridModel = GridSearchCV(estimator = XGBmodel, param_grid = param_grid, \n",
    "                          cv = kfold, n_jobs = -1, verbose = 2, return_train_score=True)\n",
    "\n",
    "XG_NewModel = XG_GridModel.fit(X_train_scaled, y_train_scaled);"
   ]
  },
  {
   "cell_type": "code",
   "execution_count": null,
   "metadata": {},
   "outputs": [],
   "source": [
    "XG_NewModel.best_params_"
   ]
  },
  {
   "cell_type": "code",
   "execution_count": null,
   "metadata": {},
   "outputs": [],
   "source": [
    "train_predictions_scaled = XG_NewModel.predict(X_train_scaled)\n",
    "train_predictions = scaler.inverse_transform(train_predictions_scaled)\n",
    "test_predictions_scaled = XG_NewModel.predict(X_test_scaled)\n",
    "test_predictions = scaler.inverse_transform(test_predictions_scaled)\n",
    "\n",
    "Train_MAE = mean_absolute_error(y_train, train_predictions)\n",
    "Train_MSE = mean_squared_error(y_train, train_predictions)\n",
    "Train_RMS = sqrt(mean_squared_error(y_train, train_predictions))\n",
    "Train_R2Score = r2_score(y_train, train_predictions)\n",
    "\n",
    "Test_MAE = mean_absolute_error(y_test, test_predictions)\n",
    "Test_MSE = mean_squared_error(y_test, test_predictions)\n",
    "Test_RMS = sqrt(mean_squared_error(y_test, test_predictions))\n",
    "Test_R2Score = r2_score(y_test, test_predictions)\n",
    "\n",
    "print('Train MAE Value:', Train_MAE)\n",
    "print('Train MSE Value:', Train_MSE)\n",
    "print('Train RMS Value:', Train_RMS)\n",
    "print('Train R2 Score:', Train_R2Score)\n",
    "print('\\n')\n",
    "\n",
    "print('Test MAE Value:', Test_MAE)\n",
    "print('Test MSE Value:', Test_MSE)\n",
    "print('Test RMS Value:', Test_RMS)\n",
    "print('Test R2 Score:', Test_R2Score)"
   ]
  },
  {
   "cell_type": "code",
   "execution_count": null,
   "metadata": {},
   "outputs": [],
   "source": [
    "rcParams['figure.figsize'] = 20, 10\n",
    "\n",
    "plt.figure()\n",
    "\n",
    "plt.scatter(x = train['State'], y = train['cases'], linewidths = 1, alpha = 0.7, edgecolor = 'k', s = 100, cmap = 'inferno')\n",
    "plt.scatter(x = test['State'], y = test['cases'], linewidths = 1, alpha = 0.7, edgecolor = 'k', s = 100, cmap = 'inferno')\n",
    "plt.scatter(x = train['State'], y = train_predictions, linewidths = 1, alpha = 0.7, edgecolor = 'k', s = 100, cmap = 'inferno')\n",
    "plt.title('Overall Health Insurance Costs Per Enrollee vs. COVID-19 Case Count Per State', fontsize = 16, fontweight = 'bold')\n",
    "plt.xlabel('State', fontsize = 10, fontweight = 'bold')\n",
    "plt.ylabel('COVID-19 Case Count', fontsize = 10, fontweight = 'bold')\n",
    "\n",
    "plt.legend(['Train Data', 'Test Data', 'Train Predictions'])\n",
    "\n",
    "plt.xticks(rotation = 90)\n",
    "plt.show();"
   ]
  },
  {
   "cell_type": "code",
   "execution_count": null,
   "metadata": {},
   "outputs": [],
   "source": [
    "rcParams['figure.figsize'] = 20, 10\n",
    "\n",
    "plt.figure()\n",
    "\n",
    "plt.scatter(x = train['State'], y = train['cases'], linewidths = 1, alpha = 0.7, edgecolor = 'k', s = 100, cmap = 'inferno')\n",
    "plt.scatter(x = test['State'], y = test['cases'], linewidths = 1, alpha = 0.7, edgecolor = 'k', s = 100, cmap = 'inferno')\n",
    "plt.scatter(x = test['State'], y = test_predictions, linewidths = 1, alpha = 0.7, edgecolor = 'k', s = 100, cmap = 'inferno')\n",
    "plt.title('Overall Health Insurance Costs Per Enrollee Per Enrollee vs. COVID-19 Case Count Per State', fontsize = 16, fontweight = 'bold')\n",
    "plt.xlabel('State', fontsize = 10, fontweight = 'bold')\n",
    "plt.ylabel('COVID-19 Case Count', fontsize = 10, fontweight = 'bold')\n",
    "\n",
    "plt.legend(['Train Data', 'Test Data', 'Test Predictions'])\n",
    "\n",
    "plt.xticks(rotation = 90)\n",
    "plt.show();"
   ]
  },
  {
   "cell_type": "code",
   "execution_count": null,
   "metadata": {},
   "outputs": [],
   "source": [
    "base_accuracy = evaluate(XGBmodel, X_train_scaled, y_train_scaled)"
   ]
  },
  {
   "cell_type": "code",
   "execution_count": null,
   "metadata": {},
   "outputs": [],
   "source": [
    "new_accuracy = evaluate(XG_NewModel, X_train_scaled, y_train_scaled)"
   ]
  },
  {
   "cell_type": "code",
   "execution_count": null,
   "metadata": {},
   "outputs": [],
   "source": [
    "print('Improvement of {:0.2f}%.'.format( 100 * (new_accuracy - base_accuracy) / new_accuracy))"
   ]
  },
  {
   "cell_type": "code",
   "execution_count": null,
   "metadata": {},
   "outputs": [],
   "source": [
    "rcParams['figure.figsize'] = 20, 10\n",
    "\n",
    "plt.figure()\n",
    "sns.distplot((np.array(test_predictions).reshape(-1) - y_test), bins = 51, color = 'b', hist_kws = {'edgecolor':'k'})\n",
    "plt.title('Overall Health Insurance Costs Per Enrollee Model Accuracy', fontsize = 16, fontweight = 'bold')\n",
    "plt.xlabel('Cases', fontsize = 10, fontweight = 'bold')\n",
    "plt.ylabel('Frequency', fontsize = 10, fontweight = 'bold')\n",
    "\n",
    "plt.show();"
   ]
  },
  {
   "cell_type": "code",
   "execution_count": null,
   "metadata": {},
   "outputs": [],
   "source": []
  }
 ],
 "metadata": {
  "kernelspec": {
   "display_name": "Python 3",
   "language": "python",
   "name": "python3"
  },
  "language_info": {
   "codemirror_mode": {
    "name": "ipython",
    "version": 3
   },
   "file_extension": ".py",
   "mimetype": "text/x-python",
   "name": "python",
   "nbconvert_exporter": "python",
   "pygments_lexer": "ipython3",
   "version": "3.7.4"
  }
 },
 "nbformat": 4,
 "nbformat_minor": 4
}
